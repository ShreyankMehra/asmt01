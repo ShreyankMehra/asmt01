{
 "cells": [
  {
   "cell_type": "code",
   "execution_count": null,
   "id": "1d98ce78",
   "metadata": {},
   "outputs": [],
   "source": [
    "#Write a Python program to triple all numbers of a given list of integers. Use Python map."
   ]
  },
  {
   "cell_type": "markdown",
   "id": "c8991108",
   "metadata": {},
   "source": [
    "# USING FUNCTIONS"
   ]
  },
  {
   "cell_type": "code",
   "execution_count": 1,
   "id": "2c75d989",
   "metadata": {},
   "outputs": [],
   "source": [
    "\n",
    "\n",
    "def tripled(x):\n",
    "    return x*3\n",
    "    "
   ]
  },
  {
   "cell_type": "code",
   "execution_count": 5,
   "id": "447fa295",
   "metadata": {},
   "outputs": [],
   "source": [
    "sample_list= [1, 2, 3, 4, 5, 6, 7]\n",
    "\n",
    "y=map(tripled,sample_list)\n",
    "tripled_list=list(y)"
   ]
  },
  {
   "cell_type": "code",
   "execution_count": 6,
   "id": "f48f8f4d",
   "metadata": {},
   "outputs": [
    {
     "data": {
      "text/plain": [
       "[3, 6, 9, 12, 15, 18, 21]"
      ]
     },
     "execution_count": 6,
     "metadata": {},
     "output_type": "execute_result"
    }
   ],
   "source": [
    "tripled_list"
   ]
  },
  {
   "cell_type": "markdown",
   "id": "68a00fa7",
   "metadata": {},
   "source": [
    "# USING LAMBDA FUNCTION "
   ]
  },
  {
   "cell_type": "code",
   "execution_count": 7,
   "id": "604a342f",
   "metadata": {},
   "outputs": [],
   "source": [
    "tripled_list=list(map(lambda x:x*3,sample_list))"
   ]
  },
  {
   "cell_type": "code",
   "execution_count": 8,
   "id": "cf70d9c2",
   "metadata": {},
   "outputs": [
    {
     "data": {
      "text/plain": [
       "[3, 6, 9, 12, 15, 18, 21]"
      ]
     },
     "execution_count": 8,
     "metadata": {},
     "output_type": "execute_result"
    }
   ],
   "source": [
    "tripled_list"
   ]
  },
  {
   "cell_type": "code",
   "execution_count": null,
   "id": "fe6893e5",
   "metadata": {},
   "outputs": [],
   "source": []
  }
 ],
 "metadata": {
  "kernelspec": {
   "display_name": "Python 3 (ipykernel)",
   "language": "python",
   "name": "python3"
  },
  "language_info": {
   "codemirror_mode": {
    "name": "ipython",
    "version": 3
   },
   "file_extension": ".py",
   "mimetype": "text/x-python",
   "name": "python",
   "nbconvert_exporter": "python",
   "pygments_lexer": "ipython3",
   "version": "3.9.6"
  }
 },
 "nbformat": 4,
 "nbformat_minor": 5
}
