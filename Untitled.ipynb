{
 "cells": [
  {
   "cell_type": "markdown",
   "id": "a92dfa34",
   "metadata": {},
   "source": [
    "# Sample List: [4, 5, 2, 9]\n",
    "Write a Python program to square the elements of a list using map() function.\n",
    "Square the elements of the list:\n",
    "\n",
    "[16, 25, 4, 81]"
   ]
  },
  {
   "cell_type": "code",
   "execution_count": 4,
   "id": "9f743b1a",
   "metadata": {},
   "outputs": [],
   "source": [
    "def square(element):\n",
    "    return element**2"
   ]
  },
  {
   "cell_type": "code",
   "execution_count": 5,
   "id": "bc5b9593",
   "metadata": {},
   "outputs": [],
   "source": [
    "sample_list= [4, 5, 2, 9]\n",
    "y=map(square,sample_list)\n",
    "squared_list=list(y)"
   ]
  },
  {
   "cell_type": "code",
   "execution_count": 6,
   "id": "8f240c31",
   "metadata": {},
   "outputs": [
    {
     "data": {
      "text/plain": [
       "[16, 25, 4, 81]"
      ]
     },
     "execution_count": 6,
     "metadata": {},
     "output_type": "execute_result"
    }
   ],
   "source": [
    "squared_list"
   ]
  },
  {
   "cell_type": "markdown",
   "id": "3e48dfe3",
   "metadata": {},
   "source": [
    "# using lambda function  "
   ]
  },
  {
   "cell_type": "code",
   "execution_count": 8,
   "id": "e2346b21",
   "metadata": {},
   "outputs": [],
   "source": [
    "squared_list=list(map(lambda x:x**2,sample_list))"
   ]
  },
  {
   "cell_type": "code",
   "execution_count": 9,
   "id": "620c2c25",
   "metadata": {},
   "outputs": [
    {
     "data": {
      "text/plain": [
       "[16, 25, 4, 81]"
      ]
     },
     "execution_count": 9,
     "metadata": {},
     "output_type": "execute_result"
    }
   ],
   "source": [
    "squared_list"
   ]
  },
  {
   "cell_type": "code",
   "execution_count": null,
   "id": "ec995d4a",
   "metadata": {},
   "outputs": [],
   "source": []
  }
 ],
 "metadata": {
  "kernelspec": {
   "display_name": "Python 3 (ipykernel)",
   "language": "python",
   "name": "python3"
  },
  "language_info": {
   "codemirror_mode": {
    "name": "ipython",
    "version": 3
   },
   "file_extension": ".py",
   "mimetype": "text/x-python",
   "name": "python",
   "nbconvert_exporter": "python",
   "pygments_lexer": "ipython3",
   "version": "3.9.6"
  }
 },
 "nbformat": 4,
 "nbformat_minor": 5
}
