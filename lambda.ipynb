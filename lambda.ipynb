{
 "cells": [
  {
   "cell_type": "markdown",
   "id": "4360cb40",
   "metadata": {},
   "source": [
    "# Write a Python program to create a lambda function that adds \n",
    "# 25 to a given number passed in as an argument.\n",
    "\n",
    "\n",
    "\n",
    "#sample input: 10\n",
    "\n",
    "#sample output: 35"
   ]
  },
  {
   "cell_type": "code",
   "execution_count": 3,
   "id": "0db36a84",
   "metadata": {},
   "outputs": [],
   "source": [
    "add25 = lambda a:a+25"
   ]
  },
  {
   "cell_type": "code",
   "execution_count": 4,
   "id": "f6d5a551",
   "metadata": {},
   "outputs": [
    {
     "name": "stdout",
     "output_type": "stream",
     "text": [
      "10\n"
     ]
    },
    {
     "data": {
      "text/plain": [
       "35"
      ]
     },
     "execution_count": 4,
     "metadata": {},
     "output_type": "execute_result"
    }
   ],
   "source": [
    "x=int(input())\n",
    "add25(x)"
   ]
  },
  {
   "cell_type": "code",
   "execution_count": 5,
   "id": "a0881a29",
   "metadata": {},
   "outputs": [
    {
     "data": {
      "text/plain": [
       "-75"
      ]
     },
     "execution_count": 5,
     "metadata": {},
     "output_type": "execute_result"
    }
   ],
   "source": [
    "add25(-100)"
   ]
  },
  {
   "cell_type": "code",
   "execution_count": 6,
   "id": "b3136944",
   "metadata": {},
   "outputs": [
    {
     "data": {
      "text/plain": [
       "125"
      ]
     },
     "execution_count": 6,
     "metadata": {},
     "output_type": "execute_result"
    }
   ],
   "source": [
    "add25(100)"
   ]
  },
  {
   "cell_type": "code",
   "execution_count": null,
   "id": "11a56794",
   "metadata": {},
   "outputs": [],
   "source": []
  }
 ],
 "metadata": {
  "kernelspec": {
   "display_name": "Python 3 (ipykernel)",
   "language": "python",
   "name": "python3"
  },
  "language_info": {
   "codemirror_mode": {
    "name": "ipython",
    "version": 3
   },
   "file_extension": ".py",
   "mimetype": "text/x-python",
   "name": "python",
   "nbconvert_exporter": "python",
   "pygments_lexer": "ipython3",
   "version": "3.9.6"
  }
 },
 "nbformat": 4,
 "nbformat_minor": 5
}
