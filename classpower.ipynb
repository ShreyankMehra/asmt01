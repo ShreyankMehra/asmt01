{
 "cells": [
  {
   "cell_type": "code",
   "execution_count": 2,
   "id": "ce85e94d",
   "metadata": {},
   "outputs": [],
   "source": [
    "class math_:\n",
    "    def power(self,i,j):\n",
    "        if j==0:\n",
    "            return 1\n",
    "        if j==1:\n",
    "            return i\n",
    "        if j<0:\n",
    "            return self.power(i,-j)\n",
    "        else:\n",
    "            if j%2==0:\n",
    "                return self.power(i,j//2)**2\n",
    "            else:\n",
    "                return (self.power(i,j//2)**2)*i            "
   ]
  },
  {
   "cell_type": "code",
   "execution_count": 4,
   "id": "290fa0db",
   "metadata": {},
   "outputs": [
    {
     "data": {
      "text/plain": [
       "4"
      ]
     },
     "execution_count": 4,
     "metadata": {},
     "output_type": "execute_result"
    }
   ],
   "source": [
    "math_().power(2,2)"
   ]
  },
  {
   "cell_type": "code",
   "execution_count": 5,
   "id": "6f0491ba",
   "metadata": {},
   "outputs": [
    {
     "data": {
      "text/plain": [
       "1"
      ]
     },
     "execution_count": 5,
     "metadata": {},
     "output_type": "execute_result"
    }
   ],
   "source": [
    "math_().power(2,0)"
   ]
  },
  {
   "cell_type": "code",
   "execution_count": 6,
   "id": "8169e390",
   "metadata": {},
   "outputs": [
    {
     "data": {
      "text/plain": [
       "4"
      ]
     },
     "execution_count": 6,
     "metadata": {},
     "output_type": "execute_result"
    }
   ],
   "source": [
    "math_().power(2,-2)"
   ]
  },
  {
   "cell_type": "code",
   "execution_count": 7,
   "id": "3366eb78",
   "metadata": {},
   "outputs": [
    {
     "data": {
      "text/plain": [
       "16"
      ]
     },
     "execution_count": 7,
     "metadata": {},
     "output_type": "execute_result"
    }
   ],
   "source": [
    "math_().power(4,2)"
   ]
  },
  {
   "cell_type": "code",
   "execution_count": 8,
   "id": "53566527",
   "metadata": {},
   "outputs": [
    {
     "data": {
      "text/plain": [
       "64"
      ]
     },
     "execution_count": 8,
     "metadata": {},
     "output_type": "execute_result"
    }
   ],
   "source": [
    "math_().power(4,3)"
   ]
  },
  {
   "cell_type": "code",
   "execution_count": null,
   "id": "83ae24bf",
   "metadata": {},
   "outputs": [],
   "source": []
  }
 ],
 "metadata": {
  "kernelspec": {
   "display_name": "Python 3 (ipykernel)",
   "language": "python",
   "name": "python3"
  },
  "language_info": {
   "codemirror_mode": {
    "name": "ipython",
    "version": 3
   },
   "file_extension": ".py",
   "mimetype": "text/x-python",
   "name": "python",
   "nbconvert_exporter": "python",
   "pygments_lexer": "ipython3",
   "version": "3.9.7"
  }
 },
 "nbformat": 4,
 "nbformat_minor": 5
}
