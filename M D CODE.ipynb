{
 "cells": [
  {
   "cell_type": "code",
   "execution_count": 23,
   "id": "9a512b5e",
   "metadata": {},
   "outputs": [
    {
     "name": "stdout",
     "output_type": "stream",
     "text": [
      "Enter The Word: EDYODA\n",
      "  NEW WORD IS : ADOYDE\n"
     ]
    }
   ],
   "source": [
    "#REVERSING AND FORMING A NEW STRING USING FOR LOOP\n",
    "word=input(\"Enter The Word: \")\n",
    "index=-1\n",
    "newword=''\n",
    "for char in word:\n",
    "    newword+=word[index]\n",
    "    index-=1\n",
    "   \n",
    "print('  NEW WORD IS :',newword)    "
   ]
  },
  {
   "cell_type": "code",
   "execution_count": 24,
   "id": "0506d83a",
   "metadata": {},
   "outputs": [
    {
     "name": "stdout",
     "output_type": "stream",
     "text": [
      "Enter The Word:EDYODA\n",
      "ADOYDE"
     ]
    }
   ],
   "source": [
    "#JUST REVERSING USING WHILE LOOP\n",
    "word=input(\"Enter The Word:\")\n",
    "index=-1\n",
    "while -index<=len(word):\n",
    "    print(word[index],end='')\n",
    "    index-=1\n",
    "    "
   ]
  },
  {
   "cell_type": "code",
   "execution_count": 14,
   "id": "ac05383e",
   "metadata": {},
   "outputs": [
    {
     "name": "stdout",
     "output_type": "stream",
     "text": [
      "Enter The Word:hdgh\n",
      "hgdh"
     ]
    }
   ],
   "source": [
    "#JUST REVERSING USING FOR LOOP\n",
    "word=input(\"Enter The Word:\")\n",
    "index=-1\n",
    "for char in word:\n",
    "    print(word[index],end='')\n",
    "    index-=1\n",
    "    "
   ]
  }
 ],
 "metadata": {
  "kernelspec": {
   "display_name": "Python 3 (ipykernel)",
   "language": "python",
   "name": "python3"
  },
  "language_info": {
   "codemirror_mode": {
    "name": "ipython",
    "version": 3
   },
   "file_extension": ".py",
   "mimetype": "text/x-python",
   "name": "python",
   "nbconvert_exporter": "python",
   "pygments_lexer": "ipython3",
   "version": "3.9.6"
  }
 },
 "nbformat": 4,
 "nbformat_minor": 5
}
