{
 "cells": [
  {
   "cell_type": "code",
   "execution_count": 3,
   "id": "64bad90b",
   "metadata": {},
   "outputs": [
    {
     "name": "stdout",
     "output_type": "stream",
     "text": [
      "NO OF EVEN NO IN COLLECTION: 4\n",
      "NO OF ODD  NO IN COLLECTION: 5\n"
     ]
    }
   ],
   "source": [
    "#using for loop and len func\n",
    "numbers = (1, 2, 3, 4, 5, 6, 7, 8, 9)\n",
    "y=[]\n",
    "x=[]\n",
    "for i in numbers:\n",
    "    if i%2==0:\n",
    "        y.append(i)\n",
    "    else:\n",
    "        x.append(i)\n",
    "print('NO OF EVEN NO IN COLLECTION:',len (y))\n",
    "print('NO OF ODD  NO IN COLLECTION:',len (x))\n"
   ]
  },
  {
   "cell_type": "code",
   "execution_count": 2,
   "id": "0ddcec00",
   "metadata": {},
   "outputs": [
    {
     "name": "stdout",
     "output_type": "stream",
     "text": [
      "NO OF EVEN NO IN COLLECTION: 4\n",
      "NO OF ODD  NO IN COLLECTION: 5\n"
     ]
    }
   ],
   "source": [
    "#using while loop only\n",
    "numbers = (1, 2, 3, 4, 5, 6, 7, 8, 9)\n",
    "index=0\n",
    "even=0\n",
    "odd=0\n",
    "while index<len(numbers):\n",
    "    if numbers[index]%2==0:\n",
    "        even+=1\n",
    "    else:\n",
    "        odd+=1\n",
    "    index+=1    \n",
    "print('NO OF EVEN NO IN COLLECTION:',even)\n",
    "print('NO OF ODD  NO IN COLLECTION:',odd)      \n",
    "        \n"
   ]
  },
  {
   "cell_type": "code",
   "execution_count": null,
   "id": "5de36471",
   "metadata": {},
   "outputs": [],
   "source": []
  },
  {
   "cell_type": "code",
   "execution_count": null,
   "id": "998127ae",
   "metadata": {},
   "outputs": [],
   "source": []
  }
 ],
 "metadata": {
  "kernelspec": {
   "display_name": "Python 3 (ipykernel)",
   "language": "python",
   "name": "python3"
  },
  "language_info": {
   "codemirror_mode": {
    "name": "ipython",
    "version": 3
   },
   "file_extension": ".py",
   "mimetype": "text/x-python",
   "name": "python",
   "nbconvert_exporter": "python",
   "pygments_lexer": "ipython3",
   "version": "3.9.6"
  }
 },
 "nbformat": 4,
 "nbformat_minor": 5
}
