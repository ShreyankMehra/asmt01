{
 "cells": [
  {
   "cell_type": "code",
   "execution_count": 4,
   "id": "905c9a85",
   "metadata": {},
   "outputs": [
    {
     "name": "stdout",
     "output_type": "stream",
     "text": [
      "[(2, 1), (1, 2), (2, 3), (4, 4), (2, 5)]\n"
     ]
    }
   ],
   "source": [
    "#Write a Python program to get a list, sorted in increasing order by the \n",
    "#last element in each tuple from a given list of non-empty tuples\n",
    "\n",
    "\n",
    "l=[(2, 5), (1, 2), (4, 4), (2, 3), (2, 1)]\n",
    "length=len(l)\n",
    "end=length-1\n",
    "for i in range(length):\n",
    "    for j in range(end-i):\n",
    "        l2=sorted((l[j][1],l[j+1][1]))\n",
    "        if l2[0]==l[j+1][1]:\n",
    "            k=l[j+1]\n",
    "            l[j+1]=l[j]\n",
    "            l[j]=k\n",
    "print(l)"
   ]
  },
  {
   "cell_type": "code",
   "execution_count": 5,
   "id": "94d786d1",
   "metadata": {},
   "outputs": [],
   "source": [
    "#defining function\n",
    "def sort_listoftuple(l):\n",
    "    length=len(l)\n",
    "    end=length-1\n",
    "    for i in range(length):\n",
    "        for j in range(end-i):\n",
    "            l2=sorted((l[j][1],l[j+1][1]))\n",
    "            if l2[0]==l[j+1][1]:\n",
    "                k=l[j+1]\n",
    "                l[j+1]=l[j]\n",
    "                l[j]=k\n",
    "    return l        \n",
    "    "
   ]
  },
  {
   "cell_type": "code",
   "execution_count": 6,
   "id": "8ad05096",
   "metadata": {},
   "outputs": [
    {
     "data": {
      "text/plain": [
       "[(2, 1), (1, 2), (2, 3), (4, 4), (2, 5)]"
      ]
     },
     "execution_count": 6,
     "metadata": {},
     "output_type": "execute_result"
    }
   ],
   "source": [
    "sort_listoftuple(l)"
   ]
  },
  {
   "cell_type": "code",
   "execution_count": null,
   "id": "c3e08360",
   "metadata": {},
   "outputs": [],
   "source": []
  }
 ],
 "metadata": {
  "kernelspec": {
   "display_name": "Python 3 (ipykernel)",
   "language": "python",
   "name": "python3"
  },
  "language_info": {
   "codemirror_mode": {
    "name": "ipython",
    "version": 3
   },
   "file_extension": ".py",
   "mimetype": "text/x-python",
   "name": "python",
   "nbconvert_exporter": "python",
   "pygments_lexer": "ipython3",
   "version": "3.9.6"
  }
 },
 "nbformat": 4,
 "nbformat_minor": 5
}
