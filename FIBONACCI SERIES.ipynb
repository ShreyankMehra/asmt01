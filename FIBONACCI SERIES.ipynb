{
 "cells": [
  {
   "cell_type": "code",
   "execution_count": 2,
   "id": "93ebc371",
   "metadata": {},
   "outputs": [
    {
     "name": "stdout",
     "output_type": "stream",
     "text": [
      "Fibonacci series upto 50 :\n",
      "# 0\n",
      "# 1\n",
      "# 1\n",
      "# 2\n",
      "# 3\n",
      "# 5\n",
      "# 8\n",
      "# 13\n",
      "# 21\n",
      "# 34\n"
     ]
    }
   ],
   "source": [
    "#using only while loop\n",
    "\n",
    "a=0\n",
    "b=1\n",
    "c=0\n",
    "print('Fibonacci series upto 50 :')\n",
    "while c<=50:\n",
    "    print(\"#\",c)\n",
    "    a=b\n",
    "    b=c\n",
    "    c=a+b"
   ]
  },
  {
   "cell_type": "code",
   "execution_count": 1,
   "id": "31b8ab1a",
   "metadata": {},
   "outputs": [
    {
     "name": "stdout",
     "output_type": "stream",
     "text": [
      "ENTER THE NUMBER UPTO WHICH YOU WANT THE SERIES :100\n",
      "Fibonacci series upto 50 :\n",
      "# 0\n",
      "# 1\n",
      "# 1\n",
      "# 2\n",
      "# 3\n",
      "# 5\n",
      "# 8\n",
      "# 13\n",
      "# 21\n",
      "# 34\n",
      "# 55\n",
      "# 89\n"
     ]
    }
   ],
   "source": [
    "#using input \n",
    "\n",
    "\n",
    "x=int(input('ENTER THE NUMBER UPTO WHICH YOU WANT THE SERIES :'))\n",
    "a=0\n",
    "b=1\n",
    "c=0\n",
    "print('Fibonacci series upto 50 :')\n",
    "while c<=x:\n",
    "    print(\"#\",c)\n",
    "    a=b\n",
    "    b=c\n",
    "    c=a+b\n",
    "    \n",
    "    \n",
    "    \n",
    "    \n",
    "\n",
    "    \n",
    "\n",
    "\n",
    "\n"
   ]
  },
  {
   "cell_type": "code",
   "execution_count": null,
   "id": "33550a28",
   "metadata": {},
   "outputs": [],
   "source": []
  }
 ],
 "metadata": {
  "kernelspec": {
   "display_name": "Python 3 (ipykernel)",
   "language": "python",
   "name": "python3"
  },
  "language_info": {
   "codemirror_mode": {
    "name": "ipython",
    "version": 3
   },
   "file_extension": ".py",
   "mimetype": "text/x-python",
   "name": "python",
   "nbconvert_exporter": "python",
   "pygments_lexer": "ipython3",
   "version": "3.9.6"
  }
 },
 "nbformat": 4,
 "nbformat_minor": 5
}
