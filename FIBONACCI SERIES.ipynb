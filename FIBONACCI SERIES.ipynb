{
 "cells": [
  {
   "cell_type": "code",
   "execution_count": 16,
   "id": "93ebc371",
   "metadata": {},
   "outputs": [
    {
     "name": "stdout",
     "output_type": "stream",
     "text": [
      "Fibonacci series upto 50 :\n",
      "# 0\n",
      "# 2\n",
      "# 2\n",
      "# 4\n",
      "# 6\n",
      "# 10\n",
      "# 16\n",
      "# 26\n",
      "# 42\n"
     ]
    }
   ],
   "source": [
    "a=1\n",
    "b=1\n",
    "c=0\n",
    "print('Fibonacci series upto 50 :')\n",
    "while c<=50:\n",
    "    print(\"#\",c)\n",
    "    a=b\n",
    "    b=c\n",
    "    c=a+b"
   ]
  },
  {
   "cell_type": "code",
   "execution_count": null,
   "id": "793cb9ce",
   "metadata": {},
   "outputs": [],
   "source": []
  },
  {
   "cell_type": "code",
   "execution_count": null,
   "id": "f9d6d09f",
   "metadata": {},
   "outputs": [],
   "source": []
  }
 ],
 "metadata": {
  "kernelspec": {
   "display_name": "Python 3 (ipykernel)",
   "language": "python",
   "name": "python3"
  },
  "language_info": {
   "codemirror_mode": {
    "name": "ipython",
    "version": 3
   },
   "file_extension": ".py",
   "mimetype": "text/x-python",
   "name": "python",
   "nbconvert_exporter": "python",
   "pygments_lexer": "ipython3",
   "version": "3.9.6"
  }
 },
 "nbformat": 4,
 "nbformat_minor": 5
}
