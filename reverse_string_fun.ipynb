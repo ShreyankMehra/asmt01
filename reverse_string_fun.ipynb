{
 "cells": [
  {
   "cell_type": "code",
   "execution_count": 6,
   "id": "6e8b3244",
   "metadata": {},
   "outputs": [],
   "source": [
    "def reverse_string(s):\n",
    "    string=s[::-1]\n",
    "    return string\n",
    "            "
   ]
  },
  {
   "cell_type": "code",
   "execution_count": 7,
   "id": "6a352e7c",
   "metadata": {},
   "outputs": [
    {
     "data": {
      "text/plain": [
       "'gfedcba4321'"
      ]
     },
     "execution_count": 7,
     "metadata": {},
     "output_type": "execute_result"
    }
   ],
   "source": [
    "s='1234abcdefg'\n",
    "reverse_string(s)"
   ]
  },
  {
   "cell_type": "code",
   "execution_count": 14,
   "id": "af579db5",
   "metadata": {},
   "outputs": [],
   "source": [
    "def rev_str(s):\n",
    "    string=''\n",
    "    l=len(s)\n",
    "    index=-1\n",
    "    while(index>=-l):\n",
    "        string+=s[index]\n",
    "        index-=1\n",
    "    return string    "
   ]
  },
  {
   "cell_type": "code",
   "execution_count": 15,
   "id": "0d46dd2b",
   "metadata": {},
   "outputs": [
    {
     "data": {
      "text/plain": [
       "'gfedcba4321'"
      ]
     },
     "execution_count": 15,
     "metadata": {},
     "output_type": "execute_result"
    }
   ],
   "source": [
    "rev_str(s)\n"
   ]
  },
  {
   "cell_type": "code",
   "execution_count": null,
   "id": "09d65dbb",
   "metadata": {},
   "outputs": [],
   "source": []
  }
 ],
 "metadata": {
  "kernelspec": {
   "display_name": "Python 3 (ipykernel)",
   "language": "python",
   "name": "python3"
  },
  "language_info": {
   "codemirror_mode": {
    "name": "ipython",
    "version": 3
   },
   "file_extension": ".py",
   "mimetype": "text/x-python",
   "name": "python",
   "nbconvert_exporter": "python",
   "pygments_lexer": "ipython3",
   "version": "3.9.6"
  }
 },
 "nbformat": 4,
 "nbformat_minor": 5
}
