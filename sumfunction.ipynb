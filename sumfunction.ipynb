{
 "cells": [
  {
   "cell_type": "code",
   "execution_count": 5,
   "id": "ab4aef54",
   "metadata": {},
   "outputs": [],
   "source": [
    "def list_element_sum(l):\n",
    "    tsum=0\n",
    "    for i in l:\n",
    "        tsum+=i\n",
    "    return tsum   "
   ]
  },
  {
   "cell_type": "code",
   "execution_count": 6,
   "id": "af5c0298",
   "metadata": {},
   "outputs": [
    {
     "data": {
      "text/plain": [
       "20"
      ]
     },
     "execution_count": 6,
     "metadata": {},
     "output_type": "execute_result"
    }
   ],
   "source": [
    "l=(8,2,3,0,7)\n",
    "list_element_sum(l)"
   ]
  },
  {
   "cell_type": "code",
   "execution_count": 8,
   "id": "f6fd5142",
   "metadata": {},
   "outputs": [],
   "source": [
    "def list_sum(l):\n",
    "    return sum(l)   "
   ]
  },
  {
   "cell_type": "code",
   "execution_count": 18,
   "id": "9b577b6c",
   "metadata": {},
   "outputs": [
    {
     "name": "stdout",
     "output_type": "stream",
     "text": [
      "23 45 67 99\n"
     ]
    },
    {
     "data": {
      "text/plain": [
       "234"
      ]
     },
     "execution_count": 18,
     "metadata": {},
     "output_type": "execute_result"
    }
   ],
   "source": [
    "x=input().split()\n",
    "l=[]\n",
    "\n",
    "for i in x:\n",
    "    l.append(int(i))\n",
    "    \n",
    "list_sum(l)"
   ]
  },
  {
   "cell_type": "code",
   "execution_count": null,
   "id": "0dfc457a",
   "metadata": {},
   "outputs": [],
   "source": []
  }
 ],
 "metadata": {
  "kernelspec": {
   "display_name": "Python 3 (ipykernel)",
   "language": "python",
   "name": "python3"
  },
  "language_info": {
   "codemirror_mode": {
    "name": "ipython",
    "version": 3
   },
   "file_extension": ".py",
   "mimetype": "text/x-python",
   "name": "python",
   "nbconvert_exporter": "python",
   "pygments_lexer": "ipython3",
   "version": "3.9.6"
  }
 },
 "nbformat": 4,
 "nbformat_minor": 5
}
